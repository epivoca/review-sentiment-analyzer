{
  "nbformat": 4,
  "nbformat_minor": 0,
  "metadata": {
    "colab": {
      "provenance": []
    },
    "kernelspec": {
      "name": "python3",
      "display_name": "Python 3"
    },
    "language_info": {
      "name": "python"
    }
  },
  "cells": [
    {
      "cell_type": "code",
      "source": [
        "!pip install mtranslate"
      ],
      "metadata": {
        "colab": {
          "base_uri": "https://localhost:8080/"
        },
        "id": "RM3T37CWjKKa",
        "outputId": "8af2fa4b-df5a-4b7c-9c34-d81106a50421"
      },
      "execution_count": null,
      "outputs": [
        {
          "output_type": "stream",
          "name": "stdout",
          "text": [
            "Collecting mtranslate\n",
            "  Downloading mtranslate-1.8.tar.gz (2.4 kB)\n",
            "  Preparing metadata (setup.py) ... \u001b[?25l\u001b[?25hdone\n",
            "Building wheels for collected packages: mtranslate\n",
            "  Building wheel for mtranslate (setup.py) ... \u001b[?25l\u001b[?25hdone\n",
            "  Created wheel for mtranslate: filename=mtranslate-1.8-py3-none-any.whl size=3672 sha256=397491391abae56485ba093a8ce42fa785a8e6b60c7126d3e39cb3a0f8ae3a7a\n",
            "  Stored in directory: /root/.cache/pip/wheels/c2/04/15/d7654c2c4a9a52e09922967593f3278fed66059be65ca671ea\n",
            "Successfully built mtranslate\n",
            "Installing collected packages: mtranslate\n",
            "Successfully installed mtranslate-1.8\n"
          ]
        }
      ]
    },
    {
      "cell_type": "code",
      "source": [
        "import mtranslate\n",
        "res = mtranslate.translate(from_language='fa', to_language='en', to_translate='سلام')\n",
        "\n",
        "print(res)"
      ],
      "metadata": {
        "colab": {
          "base_uri": "https://localhost:8080/"
        },
        "id": "WVfMqQQukSGn",
        "outputId": "52b955e3-21e4-4331-b938-8ae735edecb2"
      },
      "execution_count": null,
      "outputs": [
        {
          "output_type": "stream",
          "name": "stdout",
          "text": [
            "Hello\n"
          ]
        }
      ]
    },
    {
      "cell_type": "code",
      "source": [
        "!pip install nltk\n",
        "!pip install textblob"
      ],
      "metadata": {
        "colab": {
          "base_uri": "https://localhost:8080/"
        },
        "id": "bxOslziolloI",
        "outputId": "5b4aac05-d19f-4abc-ea04-a8ec3a4a5ccc"
      },
      "execution_count": null,
      "outputs": [
        {
          "output_type": "stream",
          "name": "stdout",
          "text": [
            "Requirement already satisfied: nltk in /usr/local/lib/python3.10/dist-packages (3.8.1)\n",
            "Requirement already satisfied: click in /usr/local/lib/python3.10/dist-packages (from nltk) (8.1.7)\n",
            "Requirement already satisfied: joblib in /usr/local/lib/python3.10/dist-packages (from nltk) (1.3.2)\n",
            "Requirement already satisfied: regex>=2021.8.3 in /usr/local/lib/python3.10/dist-packages (from nltk) (2023.6.3)\n",
            "Requirement already satisfied: tqdm in /usr/local/lib/python3.10/dist-packages (from nltk) (4.66.1)\n",
            "Requirement already satisfied: textblob in /usr/local/lib/python3.10/dist-packages (0.17.1)\n",
            "Requirement already satisfied: nltk>=3.1 in /usr/local/lib/python3.10/dist-packages (from textblob) (3.8.1)\n",
            "Requirement already satisfied: click in /usr/local/lib/python3.10/dist-packages (from nltk>=3.1->textblob) (8.1.7)\n",
            "Requirement already satisfied: joblib in /usr/local/lib/python3.10/dist-packages (from nltk>=3.1->textblob) (1.3.2)\n",
            "Requirement already satisfied: regex>=2021.8.3 in /usr/local/lib/python3.10/dist-packages (from nltk>=3.1->textblob) (2023.6.3)\n",
            "Requirement already satisfied: tqdm in /usr/local/lib/python3.10/dist-packages (from nltk>=3.1->textblob) (4.66.1)\n"
          ]
        }
      ]
    },
    {
      "cell_type": "code",
      "source": [
        "import nltk\n",
        "from textblob import TextBlob\n",
        "\n",
        "nltk.download('punkt')\n",
        "nltk.download('averaged_perceptron_tagger')\n",
        "nltk.download('vader_lexicon')"
      ],
      "metadata": {
        "colab": {
          "base_uri": "https://localhost:8080/"
        },
        "id": "jw2lyNx7l4My",
        "outputId": "881bd453-7677-488d-f389-e9cba978a8e7"
      },
      "execution_count": null,
      "outputs": [
        {
          "output_type": "stream",
          "name": "stderr",
          "text": [
            "[nltk_data] Downloading package punkt to /root/nltk_data...\n",
            "[nltk_data]   Unzipping tokenizers/punkt.zip.\n",
            "[nltk_data] Downloading package averaged_perceptron_tagger to\n",
            "[nltk_data]     /root/nltk_data...\n",
            "[nltk_data]   Unzipping taggers/averaged_perceptron_tagger.zip.\n",
            "[nltk_data] Downloading package vader_lexicon to /root/nltk_data...\n"
          ]
        },
        {
          "output_type": "execute_result",
          "data": {
            "text/plain": [
              "True"
            ]
          },
          "metadata": {},
          "execution_count": 13
        }
      ]
    },
    {
      "cell_type": "code",
      "source": [
        "neg_reviews = [\n",
        "    \"Product X is an absolute disaster. It's buggy, crashes frequently, and the customer service is non-existent. Avoid at all costs.\",\n",
        "    \"I regret purchasing this application. It promised a lot but delivered nothing but frustration. The interface is clunky, and it feels like a beta version at best.\",\n",
        "    \"Worst experience ever. The product is unreliable, and the support team takes forever to respond. Stay away unless you want a headache.\",\n",
        "    \"I can't believe I wasted money on this. It constantly freezes, and the features are not as described. Zero stars from me.\",\n",
        "    \"Extremely disappointed. The app lacks basic functionality, and the user experience is terrible. Save your time and find something else.\"\n",
        "]\n",
        "\n",
        "neu_reviews = [\n",
        "    \"The product has some useful features, but it also has its drawbacks. It's an average experience overall.\",\n",
        "    \"It's neither exceptional nor terrible. Works fine for what I need, but it doesn’t stand out from other similar products.\"\n",
        "]\n",
        "\n",
        "pos_reviews = [\n",
        "    \"This product is a game-changer! It's intuitive, powerful, and has transformed the way I work. Couldn’t recommend it more.\",\n",
        "    \"Absolutely love it! It’s user-friendly, reliable, and the customer support is fantastic. Worth every penny.\",\n",
        "    \"Incredible application! It’s exceeded my expectations. It's smooth, efficient, and has increased my productivity significantly. 5 stars without a doubt.\"\n",
        "]"
      ],
      "metadata": {
        "id": "4dMDk6mClMIF"
      },
      "execution_count": null,
      "outputs": []
    },
    {
      "cell_type": "code",
      "source": [
        "for review in neg_reviews:\n",
        "  blob = TextBlob(review)\n",
        "  print(blob.sentiment)"
      ],
      "metadata": {
        "colab": {
          "base_uri": "https://localhost:8080/"
        },
        "id": "DFluEHpLlkk2",
        "outputId": "e4eae197-1df6-47c4-90b9-c651c4e0641c"
      },
      "execution_count": null,
      "outputs": [
        {
          "output_type": "stream",
          "name": "stdout",
          "text": [
            "Sentiment(polarity=0.15000000000000002, subjectivity=0.6)\n",
            "Sentiment(polarity=1.0, subjectivity=0.3)\n",
            "Sentiment(polarity=-1.0, subjectivity=1.0)\n",
            "Sentiment(polarity=-0.1, subjectivity=0.16666666666666666)\n",
            "Sentiment(polarity=-0.5833333333333334, subjectivity=0.625)\n"
          ]
        }
      ]
    },
    {
      "cell_type": "code",
      "source": [
        "for review in neu_reviews:\n",
        "  blob = TextBlob(review)\n",
        "  print(blob.sentiment)"
      ],
      "metadata": {
        "colab": {
          "base_uri": "https://localhost:8080/"
        },
        "id": "h9hGoUW2o5Hg",
        "outputId": "a9cb8f65-e82c-41bf-ecb7-878ade1ba1c3"
      },
      "execution_count": null,
      "outputs": [
        {
          "output_type": "stream",
          "name": "stdout",
          "text": [
            "Sentiment(polarity=0.049999999999999996, subjectivity=0.13333333333333333)\n",
            "Sentiment(polarity=-0.008333333333333337, subjectivity=0.655)\n"
          ]
        }
      ]
    },
    {
      "cell_type": "code",
      "source": [
        "for review in pos_reviews:\n",
        "  blob = TextBlob(review)\n",
        "  print(blob.sentiment)"
      ],
      "metadata": {
        "colab": {
          "base_uri": "https://localhost:8080/"
        },
        "id": "s3ffOH7GpBXg",
        "outputId": "c1d45d34-f12e-469c-98fd-31d0efd19388"
      },
      "execution_count": null,
      "outputs": [
        {
          "output_type": "stream",
          "name": "stdout",
          "text": [
            "Sentiment(polarity=0.4, subjectivity=0.75)\n",
            "Sentiment(polarity=0.44166666666666665, subjectivity=0.5333333333333333)\n",
            "Sentiment(polarity=0.5916666666666667, subjectivity=0.7583333333333333)\n"
          ]
        }
      ]
    },
    {
      "cell_type": "code",
      "source": [
        "from nltk.sentiment import SentimentIntensityAnalyzer\n",
        "sia = SentimentIntensityAnalyzer()\n",
        "\n",
        "for review in neg_reviews:\n",
        "  scores = sia.polarity_scores(review)\n",
        "  print(scores)\n",
        "\n",
        "print()\n",
        "\n",
        "for review in neu_reviews:\n",
        "  scores = sia.polarity_scores(review)\n",
        "  print(scores)\n",
        "\n",
        "print()\n",
        "\n",
        "for review in pos_reviews:\n",
        "  scores = sia.polarity_scores(review)\n",
        "  print(scores)"
      ],
      "metadata": {
        "colab": {
          "base_uri": "https://localhost:8080/"
        },
        "id": "rx2_nNBzmD7Z",
        "outputId": "d65352cc-09de-4a75-8f74-b1c468803af8"
      },
      "execution_count": null,
      "outputs": [
        {
          "output_type": "stream",
          "name": "stdout",
          "text": [
            "{'neg': 0.27, 'neu': 0.73, 'pos': 0.0, 'compound': -0.743}\n",
            "{'neg': 0.054, 'neu': 0.542, 'pos': 0.403, 'compound': 0.9221}\n",
            "{'neg': 0.157, 'neu': 0.69, 'pos': 0.153, 'compound': -0.2732}\n",
            "{'neg': 0.051, 'neu': 0.828, 'pos': 0.121, 'compound': 0.367}\n",
            "{'neg': 0.243, 'neu': 0.637, 'pos': 0.12, 'compound': -0.5095}\n",
            "\n",
            "{'neg': 0.0, 'neu': 0.891, 'pos': 0.109, 'compound': 0.2382}\n",
            "{'neg': 0.144, 'neu': 0.856, 'pos': 0.0, 'compound': -0.2194}\n",
            "\n",
            "{'neg': 0.0, 'neu': 0.728, 'pos': 0.272, 'compound': 0.68}\n",
            "{'neg': 0.0, 'neu': 0.459, 'pos': 0.541, 'compound': 0.9183}\n",
            "{'neg': 0.0, 'neu': 0.673, 'pos': 0.327, 'compound': 0.7432}\n"
          ]
        }
      ]
    }
  ]
}